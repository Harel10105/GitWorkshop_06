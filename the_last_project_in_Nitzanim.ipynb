{
  "nbformat": 4,
  "nbformat_minor": 0,
  "metadata": {
    "colab": {
      "provenance": [],
      "authorship_tag": "ABX9TyPbGnofoDUcH/Kjzgdi4yI2",
      "include_colab_link": true
    },
    "kernelspec": {
      "name": "python3",
      "display_name": "Python 3"
    },
    "language_info": {
      "name": "python"
    },
    "accelerator": "GPU",
    "gpuClass": "standard"
  },
  "cells": [
    {
      "cell_type": "markdown",
      "metadata": {
        "id": "view-in-github",
        "colab_type": "text"
      },
      "source": [
        "<a href=\"https://colab.research.google.com/github/Harel10105/GitWorkshop_06/blob/master/the_last_project_in_Nitzanim.ipynb\" target=\"_parent\"><img src=\"https://colab.research.google.com/assets/colab-badge.svg\" alt=\"Open In Colab\"/></a>"
      ]
    },
    {
      "cell_type": "code",
      "execution_count": 1,
      "metadata": {
        "id": "yAllxO0kbBJp"
      },
      "outputs": [],
      "source": [
        "# Import necessary libraries\n",
        "from keras.applications import VGG16\n",
        "from keras.models import Sequential\n",
        "from keras.layers import Dense, Flatten\n",
        "from keras.preprocessing.image import ImageDataGenerator"
      ]
    },
    {
      "cell_type": "code",
      "source": [
        "# Load the Drive helper and mount\n",
        "from google.colab import drive\n",
        "drive.mount('/content/drive')"
      ],
      "metadata": {
        "colab": {
          "base_uri": "https://localhost:8080/"
        },
        "id": "lPuoRiNXqvxo",
        "outputId": "a68c6e41-cb33-4665-c120-04399d1bce28"
      },
      "execution_count": 2,
      "outputs": [
        {
          "output_type": "stream",
          "name": "stdout",
          "text": [
            "Mounted at /content/drive\n"
          ]
        }
      ]
    },
    {
      "cell_type": "code",
      "source": [
        "\n",
        "num_classes = 16\n",
        "hidden_size = 256\n",
        "# Define the base pre-trained model\n",
        "base_model = VGG16(weights='imagenet', include_top=False, input_shape=(200, 200, 3))\n",
        "\n",
        "# Freeze the layers in the base model\n",
        "for layer in base_model.layers:\n",
        "    layer.trainable = False\n",
        "\n",
        "\n",
        "# Create a new model on top of the pre-trained model\n",
        "model = Sequential()\n",
        "model.add(base_model)\n",
        "model.add(Flatten())\n",
        "#model.add(Dense(hidden_size, activation='relu'))\n",
        "model.add(Dense(num_classes, activation='softmax'))\n",
        "\n",
        "# Compile the model\n",
        "model.compile(optimizer='adam', loss='categorical_crossentropy', metrics=['accuracy'])\n",
        "\n",
        "# Load the data using ImageDataGenerator\n",
        "data_dir = \"/content/drive/MyDrive/LEGO brick images v1\"\n",
        "image_size = 200\n",
        "batch_size = 32\n",
        "\n",
        "datagen = ImageDataGenerator(rescale=1./255,\n",
        "                                   shear_range=0.2,\n",
        "                                   zoom_range=0.2,\n",
        "                                   horizontal_flip=True,validation_split=0.2)\n",
        "\n",
        "\n",
        "train_generator = datagen.flow_from_directory(data_dir,\n",
        "                                                    target_size=(image_size, image_size),\n",
        "                                                    batch_size=batch_size,\n",
        "                                                    class_mode='categorical', subset = 'training')\n",
        "\n",
        "validation_generator = datagen.flow_from_directory(data_dir,\n",
        "                                                    target_size=(image_size, image_size),\n",
        "                                                    batch_size=batch_size,\n",
        "                                                    class_mode='categorical', subset='validation')\n",
        "\n",
        "# Fine-tune the model\n",
        "epochs = 10\n",
        "steps_per_epoch = train_generator.n // batch_size\n",
        "validation_steps = validation_generator.n // batch_size\n",
        "\n",
        "history = model.fit_generator(train_generator,\n",
        "                              steps_per_epoch=steps_per_epoch,\n",
        "                              epochs=epochs,\n",
        "                              validation_data=validation_generator,\n",
        "                              validation_steps=validation_steps)\n",
        "\n",
        "# Save the model\n",
        "model.save('path/to/save/model.h5')\n"
      ],
      "metadata": {
        "colab": {
          "base_uri": "https://localhost:8080/"
        },
        "id": "EqhxvyJZbI7m",
        "outputId": "2cf9e6ec-9cee-42d4-f3b1-13eaee8f4d05"
      },
      "execution_count": 4,
      "outputs": [
        {
          "output_type": "stream",
          "name": "stdout",
          "text": [
            "Found 5104 images belonging to 16 classes.\n",
            "Found 1275 images belonging to 16 classes.\n"
          ]
        },
        {
          "output_type": "stream",
          "name": "stderr",
          "text": [
            "<ipython-input-4-fdc52be3eef3>:49: UserWarning: `Model.fit_generator` is deprecated and will be removed in a future version. Please use `Model.fit`, which supports generators.\n",
            "  history = model.fit_generator(train_generator,\n"
          ]
        },
        {
          "output_type": "stream",
          "name": "stdout",
          "text": [
            "Epoch 1/10\n",
            "159/159 [==============================] - 4399s 28s/step - loss: 0.9188 - accuracy: 0.6991 - val_loss: 0.9038 - val_accuracy: 0.6779\n",
            "Epoch 2/10\n",
            "159/159 [==============================] - 71s 446ms/step - loss: 0.3761 - accuracy: 0.8691 - val_loss: 0.7879 - val_accuracy: 0.7179\n",
            "Epoch 3/10\n",
            "159/159 [==============================] - 71s 445ms/step - loss: 0.2578 - accuracy: 0.9099 - val_loss: 0.5074 - val_accuracy: 0.8053\n",
            "Epoch 4/10\n",
            "159/159 [==============================] - 77s 487ms/step - loss: 0.2157 - accuracy: 0.9255 - val_loss: 0.4842 - val_accuracy: 0.8349\n",
            "Epoch 5/10\n",
            "159/159 [==============================] - 78s 489ms/step - loss: 0.2072 - accuracy: 0.9272 - val_loss: 0.5424 - val_accuracy: 0.7981\n",
            "Epoch 6/10\n",
            "159/159 [==============================] - 72s 451ms/step - loss: 0.1578 - accuracy: 0.9470 - val_loss: 0.4397 - val_accuracy: 0.8405\n",
            "Epoch 7/10\n",
            "159/159 [==============================] - 72s 450ms/step - loss: 0.1301 - accuracy: 0.9574 - val_loss: 0.6284 - val_accuracy: 0.7853\n",
            "Epoch 8/10\n",
            "159/159 [==============================] - 77s 482ms/step - loss: 0.1132 - accuracy: 0.9639 - val_loss: 0.4480 - val_accuracy: 0.8494\n",
            "Epoch 9/10\n",
            "159/159 [==============================] - 70s 442ms/step - loss: 0.1076 - accuracy: 0.9641 - val_loss: 0.4846 - val_accuracy: 0.8221\n",
            "Epoch 10/10\n",
            "159/159 [==============================] - 70s 441ms/step - loss: 0.1072 - accuracy: 0.9647 - val_loss: 0.4928 - val_accuracy: 0.8285\n"
          ]
        }
      ]
    },
    {
      "cell_type": "code",
      "source": [
        "\n"
      ],
      "metadata": {
        "id": "UJHbBp58h3Ys"
      },
      "execution_count": 5,
      "outputs": []
    },
    {
      "cell_type": "code",
      "source": [],
      "metadata": {
        "id": "zyPW6pFP2WH-"
      },
      "execution_count": null,
      "outputs": []
    }
  ]
}